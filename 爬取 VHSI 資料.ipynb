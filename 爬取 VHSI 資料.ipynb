{
 "cells": [
  {
   "cell_type": "markdown",
   "metadata": {},
   "source": [
    "## 載入套件"
   ]
  },
  {
   "cell_type": "code",
   "execution_count": 1,
   "metadata": {},
   "outputs": [],
   "source": [
    "import pandas as pd\n",
    "import requests\n",
    "from bs4 import BeautifulSoup"
   ]
  },
  {
   "cell_type": "markdown",
   "metadata": {},
   "source": [
    "## 取得網頁內容"
   ]
  },
  {
   "cell_type": "code",
   "execution_count": 2,
   "metadata": {},
   "outputs": [
    {
     "data": {
      "text/plain": [
       "\n",
       "<?xml version=\"1.0\" encoding=\"utf-8\"?>\n",
       "<!DOCTYPE html PUBLIC \"-//W3C//DTD XHTML 1.0 Strict//EN\"\n",
       " \"http://www.w3.org/TR/xhtml1/DTD/xhtml1-strict.dtd\">\n",
       "\n",
       "<html>\n",
       "<head>\n",
       "<title>403 ERR#1: You are banned from this site.  Please contact via a different client configuration if you believe that this is a mistake.</title>\n",
       "</head>\n",
       "<body>\n",
       "<h1>Error 403 ERR#1: You are banned from this site.  Please contact via a different client configuration if you believe that this is a mistake.</h1>\n",
       "<p>ERR#1: You are banned from this site.  Please contact via a different client configuration if you believe that this is a mistake.</p>\n",
       "<h3>Guru Meditation:</h3>\n",
       "<p>XID: 699116105</p>\n",
       "<hr/>\n",
       "<p>Varnish cache server</p>\n",
       "</body>\n",
       "</html>"
      ]
     },
     "execution_count": 2,
     "metadata": {},
     "output_type": "execute_result"
    }
   ],
   "source": [
    "resp = requests.get('https://www.investing.com/indices/hsi-volatility')\n",
    "soup = BeautifulSoup(resp.text, 'html.parser')\n",
    "soup"
   ]
  },
  {
   "cell_type": "code",
   "execution_count": 26,
   "metadata": {},
   "outputs": [
    {
     "data": {
      "text/plain": [
       "'<!DOCTYPE HTML>\\n\\n<html class=\"com\" dir=\"ltr\" geo=\"TW\" lang=\"en\" xml:lang=\"en\" xmlns=\"http://www.w3.org/1999/xhtml\" xmlns:schema=\"http://schema.org/\">\\n<head>\\n<script>\\n        (function(i,s,o,g,r,a,m){i[\\'GoogleAnalyticsObject\\']=r;i[r]=i[r]||function(){\\n            (i[r].q=i[r].q||[]).push(arguments)},i[r].l=1*new Date();a=s.createElement(o),\\n            m=s.getElementsByTagName(o)[0];a.async=1;a.src=g;m.parentNode.insertBefore(a,m)\\n        })(window,document,\\'script\\',\\'//www.google-analytics.com/analytics.js\\',\\'ga\\');\\n    </script>\\n<link href=\"https://i-invdn-com.akamaized.net\" rel=\"dns-prefetch\"/>\\n<link href=\"https://a-invdn-com.akamaized.net\" rel=\"dns-prefetch\"/>\\n<title>HSI Volatility Historical Rates - Investing.com</title>\\n<link href=\"https://www.investing.com/indices/hsi-volatility-historical-data\" hreflang=\"x-default\" rel=\"alternate\"/>\\n<link href=\"https://il.investing.com/indices/hsi-volatility-historical-data\" hreflang=\"he-il\" rel=\"alternate\"/>\\n<link href=\"https://sa.investing.com/indices/hsi-volatility-historical-data\" hreflang=\"ar\" rel=\"alternate\"/>\\n<link href=\"https://es.investing.com/indices/hsi-volatility-historical-data\" hreflang=\"es\" rel=\"alternate\"/>\\n<link href=\"https://fr.investing.com/indices/hsi-volatility-historical-data\" hreflang=\"fr\" rel=\"alternate\"/>\\n<link href=\"https://cn.investing.com/indices/hsi-volatility-historical-data\" hreflang=\"zh-cn\" rel=\"alternate\"/>\\n<link href=\"https://ru.investing.com/indices/hsi-volatility-historical-data\" hreflang=\"ru\" rel=\"alternate\"/>\\n<link href=\"https://de.investing.com/indices/hsi-volatility-historical-data\" hreflang=\"de\" rel=\"alternate\"/>\\n<link href=\"https://it.investing.com/indices/hsi-volatility-historical-data\" hreflang=\"it\" rel=\"alternate\"/>\\n<link href=\"https://tr.investing.com/indices/hsi-volatility-historical-data\" hreflang=\"tr-tr\" rel=\"alternate\"/>\\n<link href=\"https://jp.investing.com/indices/hsi-volatility-historical-data\" hreflang=\"ja-jp\" rel=\"alternate\"/>\\n<link href=\"https://br.investing.com/indices/hsi-volatility-historical-data\" hreflang=\"pt\" rel=\"alternate\"/>\\n<link href=\"https://se.investing.com/indices/hsi-volatility-historical-data\" hreflang=\"sv-se\" rel=\"alternate\"/>\\n<link href=\"https://gr.investing.com/indices/hsi-volatility-historical-data\" hreflang=\"el-gr\" rel=\"alternate\"/>\\n<link href=\"https://pl.investing.com/indices/hsi-volatility-historical-data\" hreflang=\"pl-pl\" rel=\"alternate\"/>\\n<link href=\"https://nl.investing.com/indices/hsi-volatility-historical-data\" hreflang=\"nl\" rel=\"alternate\"/>\\n<link href=\"https://fi.investing.com/indices/hsi-volatility-historical-data\" hreflang=\"fi-fi\" rel=\"alternate\"/>\\n<link href=\"https://kr.investing.com/indices/hsi-volatility-historical-data\" hreflang=\"ko-kr\" rel=\"alternate\"/>\\n<link href=\"https://mx.investing.com/indices/hsi-volatility-historical-data\" hreflang=\"es-mx\" rel=\"alternate\"/>\\n<link href=\"https://pt.investing.com/indices/hsi-volatility-historical-data\" hreflang=\"pt-pt\" rel=\"alternate\"/>\\n<link href=\"https://uk.investing.com/indices/hs'"
      ]
     },
     "execution_count": 26,
     "metadata": {},
     "output_type": "execute_result"
    }
   ],
   "source": [
    "# 上面的方法會被阻擋\n",
    "# 因此加上 headers 讓對方認為我們是透過瀏覽器逛網站的使用者\n",
    "headers = {'User-Agent': 'Mozilla/5.0 (Macintosh; Intel Mac OS X 10_13_6) AppleWebKit/537.36 (KHTML, like Gecko) Chrome/72.0.3626.121 Safari/537.36'}\n",
    "resp = requests.get('https://www.investing.com/indices/hsi-volatility-historical-data', headers=headers)\n",
    "soup = BeautifulSoup(resp.text, 'html.parser')\n",
    "# soup\n",
    "str(soup)[:3000] # 把結果放到 github 會變太長，所以只顯示前面的部分"
   ]
  },
  {
   "cell_type": "code",
   "execution_count": 23,
   "metadata": {},
   "outputs": [
    {
     "name": "stdout",
     "output_type": "stream",
     "text": [
      "last_time =  22:25:30\n",
      "last_price =  16.89\n"
     ]
    }
   ],
   "source": [
    "# 取得目前報價\n",
    "\n",
    "# 兩種選取 element 的方式\n",
    "# 方式一\n",
    "last_time = soup.select('.pid-49577-time')[0].text\n",
    "last_price = soup.select(\"#last_last\")[0].text\n",
    "\n",
    "# 方式二\n",
    "# last_time = soup.find_all('span', class_='pid-49577-time')[0].text\n",
    "# last_price = soup.find(id='last_last').text\n",
    "\n",
    "print('last_time = ', last_time)\n",
    "print('last_price = ', last_price)"
   ]
  },
  {
   "cell_type": "code",
   "execution_count": 28,
   "metadata": {},
   "outputs": [],
   "source": [
    "# 將上面程式整理成函示\n",
    "def getLastPrice():\n",
    "    headers = {'User-Agent': 'Mozilla/5.0 (Macintosh; Intel Mac OS X 10_13_6) AppleWebKit/537.36 (KHTML, like Gecko) Chrome/72.0.3626.121 Safari/537.36'}\n",
    "    resp = requests.get('https://www.investing.com/indices/hsi-volatility-historical-data', headers=headers)\n",
    "    soup = BeautifulSoup(resp.text, 'html.parser')\n",
    "    last_time = soup.select('.pid-49577-time')[0].text\n",
    "    last_price = soup.select(\"#last_last\")[0].text\n",
    "    print('last_time = {}, last_price = {}'.format(last_time, last_price))"
   ]
  },
  {
   "cell_type": "code",
   "execution_count": 29,
   "metadata": {},
   "outputs": [
    {
     "name": "stdout",
     "output_type": "stream",
     "text": [
      "last_time = 22:52:30, last_price = 16.84\n"
     ]
    }
   ],
   "source": [
    "getLastPrice()"
   ]
  },
  {
   "cell_type": "markdown",
   "metadata": {},
   "source": [
    "## 設定時間執行程式\n",
    "schedule 介紹: [https://zhuanlan.zhihu.com/p/23086148](https://zhuanlan.zhihu.com/p/23086148)\n",
    "\n",
    "要停止執行的時候，請點擊選單 Run 右邊的方塊"
   ]
  },
  {
   "cell_type": "code",
   "execution_count": 32,
   "metadata": {},
   "outputs": [
    {
     "name": "stdout",
     "output_type": "stream",
     "text": [
      "last_time = 22:52:30, last_price = 16.84\n",
      "last_time = 22:52:30, last_price = 16.84\n",
      "last_time = 22:54:30, last_price = 16.85\n",
      "last_time = 22:54:30, last_price = 16.85\n",
      "last_time = 22:56:30, last_price = 16.88\n",
      "last_time = 22:57:30, last_price = 16.81\n",
      "last_time = 22:58:30, last_price = 16.90\n",
      "last_time = 22:59:15, last_price = 16.91\n"
     ]
    },
    {
     "ename": "KeyboardInterrupt",
     "evalue": "",
     "output_type": "error",
     "traceback": [
      "\u001b[0;31m---------------------------------------------------------------------------\u001b[0m",
      "\u001b[0;31mKeyboardInterrupt\u001b[0m                         Traceback (most recent call last)",
      "\u001b[0;32m<ipython-input-32-5fad1a0a44f5>\u001b[0m in \u001b[0;36m<module>\u001b[0;34m\u001b[0m\n\u001b[1;32m     14\u001b[0m \u001b[0;32mwhile\u001b[0m \u001b[0;32mTrue\u001b[0m\u001b[0;34m:\u001b[0m\u001b[0;34m\u001b[0m\u001b[0;34m\u001b[0m\u001b[0m\n\u001b[1;32m     15\u001b[0m     \u001b[0mschedule\u001b[0m\u001b[0;34m.\u001b[0m\u001b[0mrun_pending\u001b[0m\u001b[0;34m(\u001b[0m\u001b[0;34m)\u001b[0m\u001b[0;34m\u001b[0m\u001b[0;34m\u001b[0m\u001b[0m\n\u001b[0;32m---> 16\u001b[0;31m     \u001b[0mtime\u001b[0m\u001b[0;34m.\u001b[0m\u001b[0msleep\u001b[0m\u001b[0;34m(\u001b[0m\u001b[0;36m1\u001b[0m\u001b[0;34m)\u001b[0m\u001b[0;34m\u001b[0m\u001b[0;34m\u001b[0m\u001b[0m\n\u001b[0m",
      "\u001b[0;31mKeyboardInterrupt\u001b[0m: "
     ]
    }
   ],
   "source": [
    "import schedule\n",
    "import time\n",
    "\n",
    "def job():\n",
    "    getLastPrice()  # 執行上面整理的函示\n",
    "\n",
    "job()  # 先執行第一次\n",
    "# schedule.every(3).seconds.do(job)  # 幾秒鐘執行一次\n",
    "schedule.every(1).minutes.do(job)  # 幾分鐘執行一次\n",
    "\n",
    "while True:\n",
    "    schedule.run_pending()\n",
    "    time.sleep(1)"
   ]
  },
  {
   "cell_type": "code",
   "execution_count": null,
   "metadata": {},
   "outputs": [],
   "source": [
    "# 我發現再次執行 schedule 的時候\n",
    "# 之前的排程會被記錄著\n",
    "# 用 clear 把它清掉\n",
    "schedule.clear()"
   ]
  },
  {
   "cell_type": "markdown",
   "metadata": {},
   "source": [
    "## 取得 Streaming Chart 資料"
   ]
  },
  {
   "cell_type": "code",
   "execution_count": 33,
   "metadata": {},
   "outputs": [
    {
     "data": {
      "text/html": [
       "<div>\n",
       "<style scoped>\n",
       "    .dataframe tbody tr th:only-of-type {\n",
       "        vertical-align: middle;\n",
       "    }\n",
       "\n",
       "    .dataframe tbody tr th {\n",
       "        vertical-align: top;\n",
       "    }\n",
       "\n",
       "    .dataframe thead th {\n",
       "        text-align: right;\n",
       "    }\n",
       "</style>\n",
       "<table border=\"1\" class=\"dataframe\">\n",
       "  <thead>\n",
       "    <tr style=\"text-align: right;\">\n",
       "      <th></th>\n",
       "      <th>t</th>\n",
       "      <th>c</th>\n",
       "      <th>o</th>\n",
       "      <th>h</th>\n",
       "      <th>l</th>\n",
       "      <th>v</th>\n",
       "      <th>vo</th>\n",
       "      <th>s</th>\n",
       "    </tr>\n",
       "  </thead>\n",
       "  <tbody>\n",
       "    <tr>\n",
       "      <th>0</th>\n",
       "      <td>1522713600</td>\n",
       "      <td>24.969999</td>\n",
       "      <td>27.750000</td>\n",
       "      <td>27.950001</td>\n",
       "      <td>24.59</td>\n",
       "      <td>n/a</td>\n",
       "      <td>n/a</td>\n",
       "      <td>ok</td>\n",
       "    </tr>\n",
       "    <tr>\n",
       "      <th>1</th>\n",
       "      <td>1522800000</td>\n",
       "      <td>25.900000</td>\n",
       "      <td>24.420000</td>\n",
       "      <td>26.020000</td>\n",
       "      <td>23.34</td>\n",
       "      <td>n/a</td>\n",
       "      <td>n/a</td>\n",
       "      <td>ok</td>\n",
       "    </tr>\n",
       "    <tr>\n",
       "      <th>2</th>\n",
       "      <td>1522972800</td>\n",
       "      <td>24.590000</td>\n",
       "      <td>23.420000</td>\n",
       "      <td>25.559999</td>\n",
       "      <td>23.33</td>\n",
       "      <td>n/a</td>\n",
       "      <td>n/a</td>\n",
       "      <td>ok</td>\n",
       "    </tr>\n",
       "    <tr>\n",
       "      <th>3</th>\n",
       "      <td>1523232000</td>\n",
       "      <td>23.120001</td>\n",
       "      <td>23.450001</td>\n",
       "      <td>23.980000</td>\n",
       "      <td>17.85</td>\n",
       "      <td>n/a</td>\n",
       "      <td>n/a</td>\n",
       "      <td>ok</td>\n",
       "    </tr>\n",
       "    <tr>\n",
       "      <th>4</th>\n",
       "      <td>1523318400</td>\n",
       "      <td>22.309999</td>\n",
       "      <td>22.740000</td>\n",
       "      <td>22.990000</td>\n",
       "      <td>21.27</td>\n",
       "      <td>n/a</td>\n",
       "      <td>n/a</td>\n",
       "      <td>ok</td>\n",
       "    </tr>\n",
       "  </tbody>\n",
       "</table>\n",
       "</div>"
      ],
      "text/plain": [
       "            t          c          o          h      l    v   vo   s\n",
       "0  1522713600  24.969999  27.750000  27.950001  24.59  n/a  n/a  ok\n",
       "1  1522800000  25.900000  24.420000  26.020000  23.34  n/a  n/a  ok\n",
       "2  1522972800  24.590000  23.420000  25.559999  23.33  n/a  n/a  ok\n",
       "3  1523232000  23.120001  23.450001  23.980000  17.85  n/a  n/a  ok\n",
       "4  1523318400  22.309999  22.740000  22.990000  21.27  n/a  n/a  ok"
      ]
     },
     "execution_count": 33,
     "metadata": {},
     "output_type": "execute_result"
    }
   ],
   "source": [
    "# t: time\n",
    "# o: open\n",
    "# h: high\n",
    "# l: low\n",
    "# c: close\n",
    "\n",
    "headers = {'User-Agent': 'Mozilla/5.0 (Macintosh; Intel Mac OS X 10_13_6) AppleWebKit/537.36 (KHTML, like Gecko) Chrome/72.0.3626.121 Safari/537.36'}\n",
    "resp = requests.get('https://tvc4.forexpros.com/eaa0af731455d8bbc48a5b286ca79c06/1553505233/1/1/8/history?symbol=49577&resolution=D&from=1522401241&to=1553505301', headers=headers)\n",
    "df = pd.DataFrame(resp.json())\n",
    "df.head()"
   ]
  },
  {
   "cell_type": "code",
   "execution_count": 34,
   "metadata": {},
   "outputs": [
    {
     "data": {
      "text/html": [
       "<div>\n",
       "<style scoped>\n",
       "    .dataframe tbody tr th:only-of-type {\n",
       "        vertical-align: middle;\n",
       "    }\n",
       "\n",
       "    .dataframe tbody tr th {\n",
       "        vertical-align: top;\n",
       "    }\n",
       "\n",
       "    .dataframe thead th {\n",
       "        text-align: right;\n",
       "    }\n",
       "</style>\n",
       "<table border=\"1\" class=\"dataframe\">\n",
       "  <thead>\n",
       "    <tr style=\"text-align: right;\">\n",
       "      <th></th>\n",
       "      <th>t</th>\n",
       "      <th>c</th>\n",
       "      <th>o</th>\n",
       "      <th>h</th>\n",
       "      <th>l</th>\n",
       "      <th>v</th>\n",
       "      <th>vo</th>\n",
       "      <th>s</th>\n",
       "    </tr>\n",
       "  </thead>\n",
       "  <tbody>\n",
       "    <tr>\n",
       "      <th>0</th>\n",
       "      <td>2018-04-03</td>\n",
       "      <td>24.969999</td>\n",
       "      <td>27.750000</td>\n",
       "      <td>27.950001</td>\n",
       "      <td>24.59</td>\n",
       "      <td>n/a</td>\n",
       "      <td>n/a</td>\n",
       "      <td>ok</td>\n",
       "    </tr>\n",
       "    <tr>\n",
       "      <th>1</th>\n",
       "      <td>2018-04-04</td>\n",
       "      <td>25.900000</td>\n",
       "      <td>24.420000</td>\n",
       "      <td>26.020000</td>\n",
       "      <td>23.34</td>\n",
       "      <td>n/a</td>\n",
       "      <td>n/a</td>\n",
       "      <td>ok</td>\n",
       "    </tr>\n",
       "    <tr>\n",
       "      <th>2</th>\n",
       "      <td>2018-04-06</td>\n",
       "      <td>24.590000</td>\n",
       "      <td>23.420000</td>\n",
       "      <td>25.559999</td>\n",
       "      <td>23.33</td>\n",
       "      <td>n/a</td>\n",
       "      <td>n/a</td>\n",
       "      <td>ok</td>\n",
       "    </tr>\n",
       "    <tr>\n",
       "      <th>3</th>\n",
       "      <td>2018-04-09</td>\n",
       "      <td>23.120001</td>\n",
       "      <td>23.450001</td>\n",
       "      <td>23.980000</td>\n",
       "      <td>17.85</td>\n",
       "      <td>n/a</td>\n",
       "      <td>n/a</td>\n",
       "      <td>ok</td>\n",
       "    </tr>\n",
       "    <tr>\n",
       "      <th>4</th>\n",
       "      <td>2018-04-10</td>\n",
       "      <td>22.309999</td>\n",
       "      <td>22.740000</td>\n",
       "      <td>22.990000</td>\n",
       "      <td>21.27</td>\n",
       "      <td>n/a</td>\n",
       "      <td>n/a</td>\n",
       "      <td>ok</td>\n",
       "    </tr>\n",
       "  </tbody>\n",
       "</table>\n",
       "</div>"
      ],
      "text/plain": [
       "            t          c          o          h      l    v   vo   s\n",
       "0  2018-04-03  24.969999  27.750000  27.950001  24.59  n/a  n/a  ok\n",
       "1  2018-04-04  25.900000  24.420000  26.020000  23.34  n/a  n/a  ok\n",
       "2  2018-04-06  24.590000  23.420000  25.559999  23.33  n/a  n/a  ok\n",
       "3  2018-04-09  23.120001  23.450001  23.980000  17.85  n/a  n/a  ok\n",
       "4  2018-04-10  22.309999  22.740000  22.990000  21.27  n/a  n/a  ok"
      ]
     },
     "execution_count": 34,
     "metadata": {},
     "output_type": "execute_result"
    }
   ],
   "source": [
    "# 轉換 t 的時間格式\n",
    "df['t'] = df['t'].apply(lambda x: time.strftime(\"%Y-%m-%d\", time.localtime(x)))\n",
    "df.head()"
   ]
  },
  {
   "cell_type": "code",
   "execution_count": 35,
   "metadata": {},
   "outputs": [
    {
     "data": {
      "text/plain": [
       "18.139999389648"
      ]
     },
     "execution_count": 35,
     "metadata": {},
     "output_type": "execute_result"
    }
   ],
   "source": [
    "# 取得最後一筆 close 資料\n",
    "df['c'].iloc[-1]"
   ]
  },
  {
   "cell_type": "markdown",
   "metadata": {},
   "source": [
    "## 網址內的神秘參數"
   ]
  },
  {
   "cell_type": "markdown",
   "metadata": {},
   "source": [
    "```\n",
    "在網址裡面有一段參數 from=1522401241&to=1553505301\n",
    "感覺應該是時間區間\n",
    "```"
   ]
  },
  {
   "cell_type": "code",
   "execution_count": 36,
   "metadata": {},
   "outputs": [
    {
     "name": "stdout",
     "output_type": "stream",
     "text": [
      "當前時間: 1553570239.524992\n"
     ]
    }
   ],
   "source": [
    "import time\n",
    " \n",
    "ticks = time.time()\n",
    "print(\"當前時間:\", ticks)"
   ]
  },
  {
   "cell_type": "code",
   "execution_count": 37,
   "metadata": {},
   "outputs": [
    {
     "data": {
      "text/plain": [
       "'2019-03-25'"
      ]
     },
     "execution_count": 37,
     "metadata": {},
     "output_type": "execute_result"
    }
   ],
   "source": [
    "timestamp = 1553524786.706065\n",
    "\n",
    "# 轉換成新的時間格式\n",
    "dt = time.strftime(\"%Y-%m-%d\", time.localtime(timestamp))\n",
    "# dt = time.strftime(\"%Y-%m-%d %H:%M:%S\", time.localtime(timestamp))\n",
    "\n",
    "dt"
   ]
  },
  {
   "cell_type": "code",
   "execution_count": 38,
   "metadata": {},
   "outputs": [
    {
     "data": {
      "text/plain": [
       "1548864000.0"
      ]
     },
     "execution_count": 38,
     "metadata": {},
     "output_type": "execute_result"
    }
   ],
   "source": [
    "date = \"2019-01-31\"\n",
    "ticks = time.mktime(time.strptime(date, \"%Y-%m-%d\"))\n",
    "ticks"
   ]
  },
  {
   "cell_type": "code",
   "execution_count": 39,
   "metadata": {},
   "outputs": [],
   "source": [
    "# 整理成函數方便取得時間\n",
    "def getTime(timestamp):\n",
    "    # 轉換成新的時間格式\n",
    "    dt = time.strftime(\"%Y-%m-%d\", time.localtime(timestamp))\n",
    "    print(dt)"
   ]
  },
  {
   "cell_type": "code",
   "execution_count": 40,
   "metadata": {},
   "outputs": [
    {
     "name": "stdout",
     "output_type": "stream",
     "text": [
      "2018-03-30\n",
      "2019-03-25\n"
     ]
    }
   ],
   "source": [
    "getTime(1522401241)\n",
    "getTime(1553505301)"
   ]
  },
  {
   "cell_type": "code",
   "execution_count": 41,
   "metadata": {},
   "outputs": [],
   "source": [
    "# 整理成函數方便取得時間 ticks\n",
    "def getTicks(date):\n",
    "    ticks = time.mktime(time.strptime(date, \"%Y-%m-%d\"))\n",
    "    print(ticks)"
   ]
  },
  {
   "cell_type": "code",
   "execution_count": 42,
   "metadata": {},
   "outputs": [
    {
     "name": "stdout",
     "output_type": "stream",
     "text": [
      "1522339200.0\n",
      "1553443200.0\n"
     ]
    }
   ],
   "source": [
    "getTicks('2018-03-30')\n",
    "getTicks('2019-03-25')"
   ]
  },
  {
   "cell_type": "markdown",
   "metadata": {},
   "source": [
    "## 使用 csv 儲存資料"
   ]
  },
  {
   "cell_type": "code",
   "execution_count": 43,
   "metadata": {},
   "outputs": [],
   "source": [
    "# 存檔\n",
    "# index: 設定是否加上索引\n",
    "# encoding: 設定編碼格式\n",
    "df.to_csv('vhsi_price.csv', index=False, encoding='utf_8_sig')"
   ]
  },
  {
   "cell_type": "code",
   "execution_count": 44,
   "metadata": {},
   "outputs": [
    {
     "data": {
      "text/html": [
       "<div>\n",
       "<style scoped>\n",
       "    .dataframe tbody tr th:only-of-type {\n",
       "        vertical-align: middle;\n",
       "    }\n",
       "\n",
       "    .dataframe tbody tr th {\n",
       "        vertical-align: top;\n",
       "    }\n",
       "\n",
       "    .dataframe thead th {\n",
       "        text-align: right;\n",
       "    }\n",
       "</style>\n",
       "<table border=\"1\" class=\"dataframe\">\n",
       "  <thead>\n",
       "    <tr style=\"text-align: right;\">\n",
       "      <th></th>\n",
       "      <th>c</th>\n",
       "      <th>o</th>\n",
       "      <th>h</th>\n",
       "      <th>l</th>\n",
       "      <th>v</th>\n",
       "      <th>vo</th>\n",
       "      <th>s</th>\n",
       "    </tr>\n",
       "    <tr>\n",
       "      <th>t</th>\n",
       "      <th></th>\n",
       "      <th></th>\n",
       "      <th></th>\n",
       "      <th></th>\n",
       "      <th></th>\n",
       "      <th></th>\n",
       "      <th></th>\n",
       "    </tr>\n",
       "  </thead>\n",
       "  <tbody>\n",
       "    <tr>\n",
       "      <th>2018-04-03</th>\n",
       "      <td>24.969999</td>\n",
       "      <td>27.750000</td>\n",
       "      <td>27.950001</td>\n",
       "      <td>24.59</td>\n",
       "      <td>NaN</td>\n",
       "      <td>NaN</td>\n",
       "      <td>ok</td>\n",
       "    </tr>\n",
       "    <tr>\n",
       "      <th>2018-04-04</th>\n",
       "      <td>25.900000</td>\n",
       "      <td>24.420000</td>\n",
       "      <td>26.020000</td>\n",
       "      <td>23.34</td>\n",
       "      <td>NaN</td>\n",
       "      <td>NaN</td>\n",
       "      <td>ok</td>\n",
       "    </tr>\n",
       "    <tr>\n",
       "      <th>2018-04-06</th>\n",
       "      <td>24.590000</td>\n",
       "      <td>23.420000</td>\n",
       "      <td>25.559999</td>\n",
       "      <td>23.33</td>\n",
       "      <td>NaN</td>\n",
       "      <td>NaN</td>\n",
       "      <td>ok</td>\n",
       "    </tr>\n",
       "    <tr>\n",
       "      <th>2018-04-09</th>\n",
       "      <td>23.120001</td>\n",
       "      <td>23.450001</td>\n",
       "      <td>23.980000</td>\n",
       "      <td>17.85</td>\n",
       "      <td>NaN</td>\n",
       "      <td>NaN</td>\n",
       "      <td>ok</td>\n",
       "    </tr>\n",
       "    <tr>\n",
       "      <th>2018-04-10</th>\n",
       "      <td>22.309999</td>\n",
       "      <td>22.740000</td>\n",
       "      <td>22.990000</td>\n",
       "      <td>21.27</td>\n",
       "      <td>NaN</td>\n",
       "      <td>NaN</td>\n",
       "      <td>ok</td>\n",
       "    </tr>\n",
       "  </tbody>\n",
       "</table>\n",
       "</div>"
      ],
      "text/plain": [
       "                    c          o          h      l   v  vo   s\n",
       "t                                                             \n",
       "2018-04-03  24.969999  27.750000  27.950001  24.59 NaN NaN  ok\n",
       "2018-04-04  25.900000  24.420000  26.020000  23.34 NaN NaN  ok\n",
       "2018-04-06  24.590000  23.420000  25.559999  23.33 NaN NaN  ok\n",
       "2018-04-09  23.120001  23.450001  23.980000  17.85 NaN NaN  ok\n",
       "2018-04-10  22.309999  22.740000  22.990000  21.27 NaN NaN  ok"
      ]
     },
     "execution_count": 44,
     "metadata": {},
     "output_type": "execute_result"
    }
   ],
   "source": [
    "# 讀檔\n",
    "# index_col: 讀取時，把某行當成索引\n",
    "df_csv = pd.read_csv('vhsi_price.csv', index_col=['t'])\n",
    "df_csv.head()"
   ]
  },
  {
   "cell_type": "markdown",
   "metadata": {},
   "source": [
    "## 使用 sqlite3 儲存資料\n",
    "DB Browser for SQLite: \n",
    "[https://sqlitebrowser.org/](https://sqlitebrowser.org/)"
   ]
  },
  {
   "cell_type": "code",
   "execution_count": 45,
   "metadata": {},
   "outputs": [],
   "source": [
    "import sqlite3\n",
    "conn = sqlite3.connect('vhsi_price.sqlite3')\n",
    "\n",
    "# 存檔\n",
    "# index: 設定是否加上索引\n",
    "# if_exists='replace'，假如 sql 中已經有 daily_price 這個 dataframe，則直接覆蓋掉它\n",
    "df.to_sql('vhsi_price', conn, index=False, if_exists='replace')"
   ]
  },
  {
   "cell_type": "code",
   "execution_count": 46,
   "metadata": {},
   "outputs": [
    {
     "data": {
      "text/html": [
       "<div>\n",
       "<style scoped>\n",
       "    .dataframe tbody tr th:only-of-type {\n",
       "        vertical-align: middle;\n",
       "    }\n",
       "\n",
       "    .dataframe tbody tr th {\n",
       "        vertical-align: top;\n",
       "    }\n",
       "\n",
       "    .dataframe thead th {\n",
       "        text-align: right;\n",
       "    }\n",
       "</style>\n",
       "<table border=\"1\" class=\"dataframe\">\n",
       "  <thead>\n",
       "    <tr style=\"text-align: right;\">\n",
       "      <th></th>\n",
       "      <th>c</th>\n",
       "      <th>o</th>\n",
       "      <th>h</th>\n",
       "      <th>l</th>\n",
       "      <th>v</th>\n",
       "      <th>vo</th>\n",
       "      <th>s</th>\n",
       "    </tr>\n",
       "    <tr>\n",
       "      <th>t</th>\n",
       "      <th></th>\n",
       "      <th></th>\n",
       "      <th></th>\n",
       "      <th></th>\n",
       "      <th></th>\n",
       "      <th></th>\n",
       "      <th></th>\n",
       "    </tr>\n",
       "  </thead>\n",
       "  <tbody>\n",
       "    <tr>\n",
       "      <th>2018-04-03</th>\n",
       "      <td>24.969999</td>\n",
       "      <td>27.750000</td>\n",
       "      <td>27.950001</td>\n",
       "      <td>24.59</td>\n",
       "      <td>n/a</td>\n",
       "      <td>n/a</td>\n",
       "      <td>ok</td>\n",
       "    </tr>\n",
       "    <tr>\n",
       "      <th>2018-04-04</th>\n",
       "      <td>25.900000</td>\n",
       "      <td>24.420000</td>\n",
       "      <td>26.020000</td>\n",
       "      <td>23.34</td>\n",
       "      <td>n/a</td>\n",
       "      <td>n/a</td>\n",
       "      <td>ok</td>\n",
       "    </tr>\n",
       "    <tr>\n",
       "      <th>2018-04-06</th>\n",
       "      <td>24.590000</td>\n",
       "      <td>23.420000</td>\n",
       "      <td>25.559999</td>\n",
       "      <td>23.33</td>\n",
       "      <td>n/a</td>\n",
       "      <td>n/a</td>\n",
       "      <td>ok</td>\n",
       "    </tr>\n",
       "    <tr>\n",
       "      <th>2018-04-09</th>\n",
       "      <td>23.120001</td>\n",
       "      <td>23.450001</td>\n",
       "      <td>23.980000</td>\n",
       "      <td>17.85</td>\n",
       "      <td>n/a</td>\n",
       "      <td>n/a</td>\n",
       "      <td>ok</td>\n",
       "    </tr>\n",
       "    <tr>\n",
       "      <th>2018-04-10</th>\n",
       "      <td>22.309999</td>\n",
       "      <td>22.740000</td>\n",
       "      <td>22.990000</td>\n",
       "      <td>21.27</td>\n",
       "      <td>n/a</td>\n",
       "      <td>n/a</td>\n",
       "      <td>ok</td>\n",
       "    </tr>\n",
       "  </tbody>\n",
       "</table>\n",
       "</div>"
      ],
      "text/plain": [
       "                    c          o          h      l    v   vo   s\n",
       "t                                                               \n",
       "2018-04-03  24.969999  27.750000  27.950001  24.59  n/a  n/a  ok\n",
       "2018-04-04  25.900000  24.420000  26.020000  23.34  n/a  n/a  ok\n",
       "2018-04-06  24.590000  23.420000  25.559999  23.33  n/a  n/a  ok\n",
       "2018-04-09  23.120001  23.450001  23.980000  17.85  n/a  n/a  ok\n",
       "2018-04-10  22.309999  22.740000  22.990000  21.27  n/a  n/a  ok"
      ]
     },
     "execution_count": 46,
     "metadata": {},
     "output_type": "execute_result"
    }
   ],
   "source": [
    "# 讀檔\n",
    "# index_col: 讀取時，把某行當成索引\n",
    "df_sqlite = pd.read_sql('select * from vhsi_price', conn, index_col=['t'])\n",
    "df_sqlite.head()"
   ]
  },
  {
   "cell_type": "code",
   "execution_count": null,
   "metadata": {},
   "outputs": [],
   "source": []
  }
 ],
 "metadata": {
  "kernelspec": {
   "display_name": "Python 3",
   "language": "python",
   "name": "python3"
  },
  "language_info": {
   "codemirror_mode": {
    "name": "ipython",
    "version": 3
   },
   "file_extension": ".py",
   "mimetype": "text/x-python",
   "name": "python",
   "nbconvert_exporter": "python",
   "pygments_lexer": "ipython3",
   "version": "3.6.8"
  }
 },
 "nbformat": 4,
 "nbformat_minor": 2
}
